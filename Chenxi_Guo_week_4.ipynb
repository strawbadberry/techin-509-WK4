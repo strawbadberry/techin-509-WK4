{
  "nbformat": 4,
  "nbformat_minor": 0,
  "metadata": {
    "colab": {
      "provenance": [],
      "authorship_tag": "ABX9TyP+xnWh3u9bfgpmae7uFl8k",
      "include_colab_link": true
    },
    "kernelspec": {
      "name": "python3",
      "display_name": "Python 3"
    },
    "language_info": {
      "name": "python"
    }
  },
  "cells": [
    {
      "cell_type": "markdown",
      "metadata": {
        "id": "view-in-github",
        "colab_type": "text"
      },
      "source": [
        "<a href=\"https://colab.research.google.com/github/cguoo0/techin-509-WK4/blob/main/Chenxi_Guo_week_4.ipynb\" target=\"_parent\"><img src=\"https://colab.research.google.com/assets/colab-badge.svg\" alt=\"Open In Colab\"/></a>"
      ]
    },
    {
      "cell_type": "code",
      "execution_count": 30,
      "metadata": {
        "colab": {
          "base_uri": "https://localhost:8080/"
        },
        "id": "zKSD-w20-kzA",
        "outputId": "613f94d4-ae03-4712-fc0c-5dcea065071c"
      },
      "outputs": [
        {
          "output_type": "stream",
          "name": "stdout",
          "text": [
            "......................\n",
            "......##########......\n",
            "......#~~~~~~~~#......\n",
            "......#~~~~~~~~#......\n",
            "......#~~~~~~~~#####..\n",
            "....###~~~~~~~~~~~~#..\n",
            "....#~~~~~~~~~~~~###..\n",
            "....##############....\n",
            "~~~~~~~~~~~~~~~~~~~~~~\n",
            "~~~~~~##########~~~~~~\n",
            "~~~~~~#~~~~~~~~#~~~~~~\n",
            "~~~~~~#~~~~~~~~#~~~~~~\n",
            "~~~~~~#~~~~~~~~#####~~\n",
            "~~~~###~~~~~~~~~~~~#~~\n",
            "~~~~#~~~~~~~~~~~~###~~\n",
            "~~~~##############~~~~\n"
          ]
        }
      ],
      "source": [
        "board = [\n",
        "    \"......................\",\n",
        "    \"......##########......\",\n",
        "    \"...###........#......\",\n",
        "    \"......#........#......\",\n",
        "    \".....##........#####..\",\n",
        "    \"...####............#..\",\n",
        "    \"....#............###..\",\n",
        "    \"....##############....\",\n",
        "]\n",
        "\n",
        "\n",
        "def flood_fill(input_board, old, new, x, y):\n",
        "    \"\"\"Returns board with old values replaced with new values\n",
        "    through flood filling starting from the coordinates x, y\n",
        "    Args:\n",
        "        input_board (List[str]): The input board\n",
        "        old (str): Value to be replaced\n",
        "        new (str): Value that replaces the old\n",
        "        x (int): X-coordinate of the flood start point\n",
        "        y (int): Y-coordinate of the flood start point\n",
        "    Returns:\n",
        "        List[str]: Modified board\n",
        "    \"\"\"\n",
        "\n",
        "    # Implement your code here.\n",
        "    rows = len(input_board)\n",
        "    cols = len(input_board[0])\n",
        "\n",
        "    def fill(x,y):\n",
        "        if 0 <= x < rows and 0 <= y < cols and input_board[x][y] == old:\n",
        "            input_board[x] = input_board[x][:y] + new + input_board[x][y + 1:]\n",
        "            fill(x - 1, y)  # Up\n",
        "            fill(x + 1, y)  # Down\n",
        "            fill(x, y - 1)  # Left\n",
        "            fill(x, y + 1)  # Right\n",
        "    fill(x,y)\n",
        "    return(input_board)\n",
        "\n",
        "result = flood_fill(board, old = '.' , new ='~', x=5, y=12)\n",
        "for a in result:\n",
        "    print(a)\n",
        "\n",
        "\n",
        "result = flood_fill(board, old = '.' , new ='~', x=1, y=1)\n",
        "for a in result:\n",
        "    print(a)"
      ]
    },
    {
      "cell_type": "code",
      "source": [],
      "metadata": {
        "id": "AETNDkXPxFtQ"
      },
      "execution_count": null,
      "outputs": []
    }
  ]
}
